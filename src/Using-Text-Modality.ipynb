{
 "cells": [
  {
   "cell_type": "markdown",
   "id": "ab429ad1",
   "metadata": {
    "papermill": {
     "duration": 0.010592,
     "end_time": "2024-07-27T21:33:35.003118",
     "exception": false,
     "start_time": "2024-07-27T21:33:34.992526",
     "status": "completed"
    },
    "tags": []
   },
   "source": [
    "# TBP SKIN CANCER DETECTION using SGD / AdaBoost / CatBoost / XGBoost / LGBM"
   ]
  },
  {
   "cell_type": "markdown",
   "id": "fe01f8da",
   "metadata": {
    "papermill": {
     "duration": 0.009961,
     "end_time": "2024-07-27T21:33:35.023295",
     "exception": false,
     "start_time": "2024-07-27T21:33:35.013334",
     "status": "completed"
    },
    "tags": []
   },
   "source": [
    "## Importing Necessary Libraries"
   ]
  },
  {
   "cell_type": "code",
   "execution_count": 1,
   "id": "34dd7194",
   "metadata": {
    "execution": {
     "iopub.execute_input": "2024-07-27T21:33:35.044335Z",
     "iopub.status.busy": "2024-07-27T21:33:35.044049Z",
     "iopub.status.idle": "2024-07-27T21:33:51.112240Z",
     "shell.execute_reply": "2024-07-27T21:33:51.111221Z"
    },
    "papermill": {
     "duration": 16.081137,
     "end_time": "2024-07-27T21:33:51.114537",
     "exception": false,
     "start_time": "2024-07-27T21:33:35.033400",
     "status": "completed"
    },
    "tags": []
   },
   "outputs": [
    {
     "name": "stderr",
     "output_type": "stream",
     "text": [
      "2024-07-27 21:33:42.065877: E external/local_xla/xla/stream_executor/cuda/cuda_dnn.cc:9261] Unable to register cuDNN factory: Attempting to register factory for plugin cuDNN when one has already been registered\n",
      "2024-07-27 21:33:42.065980: E external/local_xla/xla/stream_executor/cuda/cuda_fft.cc:607] Unable to register cuFFT factory: Attempting to register factory for plugin cuFFT when one has already been registered\n",
      "2024-07-27 21:33:42.171664: E external/local_xla/xla/stream_executor/cuda/cuda_blas.cc:1515] Unable to register cuBLAS factory: Attempting to register factory for plugin cuBLAS when one has already been registered\n"
     ]
    }
   ],
   "source": [
    "import pandas as pd\n",
    "import numpy as np\n",
    "from imblearn.over_sampling import SMOTE, SVMSMOTE, RandomOverSampler\n",
    "from imblearn.under_sampling import RandomUnderSampler\n",
    "import matplotlib.pyplot as plt\n",
    "import os\n",
    "from tqdm import tqdm\n",
    "from sklearn.preprocessing import FunctionTransformer, StandardScaler, OneHotEncoder, OrdinalEncoder\n",
    "from sklearn.impute import SimpleImputer\n",
    "from sklearn.compose import ColumnTransformer\n",
    "from sklearn.model_selection import train_test_split\n",
    "from sklearn.ensemble import RandomForestClassifier, AdaBoostClassifier, GradientBoostingClassifier\n",
    "from sklearn.pipeline import Pipeline\n",
    "from sklearn.metrics import roc_curve, auc, roc_auc_score, classification_report, confusion_matrix\n",
    "import xgboost as xgb\n",
    "from catboost import CatBoostClassifier\n",
    "import lightgbm as lgb\n",
    "from imblearn.ensemble import BalancedRandomForestClassifier\n",
    "from sklearn.feature_selection import SelectKBest, f_classif\n",
    "from sklearn.base import BaseEstimator, TransformerMixin\n",
    "import seaborn as sns\n",
    "from tensorflow.keras.models import Sequential\n",
    "from tensorflow.keras.layers import Dense, Dropout\n",
    "from tensorflow.keras.optimizers import Adam\n",
    "from tensorflow.keras.regularizers import l2\n",
    "import tensorflow as tf\n",
    "from sklearn.svm import SVC"
   ]
  },
  {
   "cell_type": "code",
   "execution_count": 2,
   "id": "c85e106f",
   "metadata": {
    "_cell_guid": "b1076dfc-b9ad-4769-8c92-a6c4dae69d19",
    "_uuid": "8f2839f25d086af736a60e9eeb907d3b93b6e0e5",
    "execution": {
     "iopub.execute_input": "2024-07-27T21:33:51.136558Z",
     "iopub.status.busy": "2024-07-27T21:33:51.135895Z",
     "iopub.status.idle": "2024-07-27T21:33:52.187483Z",
     "shell.execute_reply": "2024-07-27T21:33:52.186337Z"
    },
    "papermill": {
     "duration": 1.065053,
     "end_time": "2024-07-27T21:33:52.189858",
     "exception": false,
     "start_time": "2024-07-27T21:33:51.124805",
     "status": "completed"
    },
    "tags": []
   },
   "outputs": [
    {
     "name": "stdout",
     "output_type": "stream",
     "text": [
      "Folder: isic-2024-challenge\n",
      "/kaggle/input/isic-2024-challenge/sample_submission.csv\n",
      "/kaggle/input/isic-2024-challenge/train-metadata.csv\n",
      "/kaggle/input/isic-2024-challenge/test-metadata.csv\n",
      "/kaggle/input/isic-2024-challenge/test-image.hdf5\n",
      "/kaggle/input/isic-2024-challenge/train-image.hdf5\n"
     ]
    },
    {
     "name": "stderr",
     "output_type": "stream",
     "text": [
      "/opt/conda/lib/python3.10/pty.py:89: RuntimeWarning: os.fork() was called. os.fork() is incompatible with multithreaded code, and JAX is multithreaded, so this will likely lead to a deadlock.\n",
      "  pid, fd = os.forkpty()\n"
     ]
    },
    {
     "name": "stdout",
     "output_type": "stream",
     "text": [
      "sample_submission.csv  test-metadata.csv  train-image.hdf5\r\n",
      "test-image.hdf5        train-image\t  train-metadata.csv\r\n"
     ]
    }
   ],
   "source": [
    "import os\n",
    "root_dir = '/kaggle/input'\n",
    "\n",
    "for item in os.listdir(root_dir):\n",
    "    item_path = os.path.join(root_dir, item)\n",
    "    if os.path.isdir(item_path):\n",
    "        print(f\"Folder: {item}\")\n",
    "        for filename in os.listdir(item_path):\n",
    "            file_path = os.path.join(item_path, filename)\n",
    "            if os.path.isfile(file_path):\n",
    "                print(file_path)\n",
    "    elif os.path.isfile(item_path):\n",
    "        print(item_path)\n",
    "        \n",
    "!ls /kaggle/input/isic-2024-challenge"
   ]
  },
  {
   "cell_type": "markdown",
   "id": "84c97dd7",
   "metadata": {
    "papermill": {
     "duration": 0.010903,
     "end_time": "2024-07-27T21:33:52.211577",
     "exception": false,
     "start_time": "2024-07-27T21:33:52.200674",
     "status": "completed"
    },
    "tags": []
   },
   "source": [
    "## Basic Data Exploration"
   ]
  },
  {
   "cell_type": "code",
   "execution_count": 3,
   "id": "d60fcfb9",
   "metadata": {
    "execution": {
     "iopub.execute_input": "2024-07-27T21:33:52.233677Z",
     "iopub.status.busy": "2024-07-27T21:33:52.233319Z",
     "iopub.status.idle": "2024-07-27T21:34:04.304388Z",
     "shell.execute_reply": "2024-07-27T21:34:04.303353Z"
    },
    "papermill": {
     "duration": 12.084866,
     "end_time": "2024-07-27T21:34:04.306722",
     "exception": false,
     "start_time": "2024-07-27T21:33:52.221856",
     "status": "completed"
    },
    "tags": []
   },
   "outputs": [
    {
     "data": {
      "text/html": [
       "<div>\n",
       "<style scoped>\n",
       "    .dataframe tbody tr th:only-of-type {\n",
       "        vertical-align: middle;\n",
       "    }\n",
       "\n",
       "    .dataframe tbody tr th {\n",
       "        vertical-align: top;\n",
       "    }\n",
       "\n",
       "    .dataframe thead th {\n",
       "        text-align: right;\n",
       "    }\n",
       "</style>\n",
       "<table border=\"1\" class=\"dataframe\">\n",
       "  <thead>\n",
       "    <tr style=\"text-align: right;\">\n",
       "      <th></th>\n",
       "      <th>isic_id</th>\n",
       "      <th>target</th>\n",
       "      <th>patient_id</th>\n",
       "      <th>age_approx</th>\n",
       "      <th>sex</th>\n",
       "      <th>anatom_site_general</th>\n",
       "      <th>clin_size_long_diam_mm</th>\n",
       "      <th>image_type</th>\n",
       "      <th>tbp_tile_type</th>\n",
       "      <th>tbp_lv_A</th>\n",
       "      <th>...</th>\n",
       "      <th>lesion_id</th>\n",
       "      <th>iddx_full</th>\n",
       "      <th>iddx_1</th>\n",
       "      <th>iddx_2</th>\n",
       "      <th>iddx_3</th>\n",
       "      <th>iddx_4</th>\n",
       "      <th>iddx_5</th>\n",
       "      <th>mel_mitotic_index</th>\n",
       "      <th>mel_thick_mm</th>\n",
       "      <th>tbp_lv_dnn_lesion_confidence</th>\n",
       "    </tr>\n",
       "  </thead>\n",
       "  <tbody>\n",
       "    <tr>\n",
       "      <th>0</th>\n",
       "      <td>ISIC_0015670</td>\n",
       "      <td>0</td>\n",
       "      <td>IP_1235828</td>\n",
       "      <td>60.0</td>\n",
       "      <td>male</td>\n",
       "      <td>lower extremity</td>\n",
       "      <td>3.04</td>\n",
       "      <td>TBP tile: close-up</td>\n",
       "      <td>3D: white</td>\n",
       "      <td>20.244422</td>\n",
       "      <td>...</td>\n",
       "      <td>NaN</td>\n",
       "      <td>Benign</td>\n",
       "      <td>Benign</td>\n",
       "      <td>NaN</td>\n",
       "      <td>NaN</td>\n",
       "      <td>NaN</td>\n",
       "      <td>NaN</td>\n",
       "      <td>NaN</td>\n",
       "      <td>NaN</td>\n",
       "      <td>97.517282</td>\n",
       "    </tr>\n",
       "    <tr>\n",
       "      <th>1</th>\n",
       "      <td>ISIC_0015845</td>\n",
       "      <td>0</td>\n",
       "      <td>IP_8170065</td>\n",
       "      <td>60.0</td>\n",
       "      <td>male</td>\n",
       "      <td>head/neck</td>\n",
       "      <td>1.10</td>\n",
       "      <td>TBP tile: close-up</td>\n",
       "      <td>3D: white</td>\n",
       "      <td>31.712570</td>\n",
       "      <td>...</td>\n",
       "      <td>IL_6727506</td>\n",
       "      <td>Benign</td>\n",
       "      <td>Benign</td>\n",
       "      <td>NaN</td>\n",
       "      <td>NaN</td>\n",
       "      <td>NaN</td>\n",
       "      <td>NaN</td>\n",
       "      <td>NaN</td>\n",
       "      <td>NaN</td>\n",
       "      <td>3.141455</td>\n",
       "    </tr>\n",
       "    <tr>\n",
       "      <th>2</th>\n",
       "      <td>ISIC_0015864</td>\n",
       "      <td>0</td>\n",
       "      <td>IP_6724798</td>\n",
       "      <td>60.0</td>\n",
       "      <td>male</td>\n",
       "      <td>posterior torso</td>\n",
       "      <td>3.40</td>\n",
       "      <td>TBP tile: close-up</td>\n",
       "      <td>3D: XP</td>\n",
       "      <td>22.575830</td>\n",
       "      <td>...</td>\n",
       "      <td>NaN</td>\n",
       "      <td>Benign</td>\n",
       "      <td>Benign</td>\n",
       "      <td>NaN</td>\n",
       "      <td>NaN</td>\n",
       "      <td>NaN</td>\n",
       "      <td>NaN</td>\n",
       "      <td>NaN</td>\n",
       "      <td>NaN</td>\n",
       "      <td>99.804040</td>\n",
       "    </tr>\n",
       "    <tr>\n",
       "      <th>3</th>\n",
       "      <td>ISIC_0015902</td>\n",
       "      <td>0</td>\n",
       "      <td>IP_4111386</td>\n",
       "      <td>65.0</td>\n",
       "      <td>male</td>\n",
       "      <td>anterior torso</td>\n",
       "      <td>3.22</td>\n",
       "      <td>TBP tile: close-up</td>\n",
       "      <td>3D: XP</td>\n",
       "      <td>14.242329</td>\n",
       "      <td>...</td>\n",
       "      <td>NaN</td>\n",
       "      <td>Benign</td>\n",
       "      <td>Benign</td>\n",
       "      <td>NaN</td>\n",
       "      <td>NaN</td>\n",
       "      <td>NaN</td>\n",
       "      <td>NaN</td>\n",
       "      <td>NaN</td>\n",
       "      <td>NaN</td>\n",
       "      <td>99.989998</td>\n",
       "    </tr>\n",
       "    <tr>\n",
       "      <th>4</th>\n",
       "      <td>ISIC_0024200</td>\n",
       "      <td>0</td>\n",
       "      <td>IP_8313778</td>\n",
       "      <td>55.0</td>\n",
       "      <td>male</td>\n",
       "      <td>anterior torso</td>\n",
       "      <td>2.73</td>\n",
       "      <td>TBP tile: close-up</td>\n",
       "      <td>3D: white</td>\n",
       "      <td>24.725520</td>\n",
       "      <td>...</td>\n",
       "      <td>NaN</td>\n",
       "      <td>Benign</td>\n",
       "      <td>Benign</td>\n",
       "      <td>NaN</td>\n",
       "      <td>NaN</td>\n",
       "      <td>NaN</td>\n",
       "      <td>NaN</td>\n",
       "      <td>NaN</td>\n",
       "      <td>NaN</td>\n",
       "      <td>70.442510</td>\n",
       "    </tr>\n",
       "  </tbody>\n",
       "</table>\n",
       "<p>5 rows × 55 columns</p>\n",
       "</div>"
      ],
      "text/plain": [
       "        isic_id  target  patient_id  age_approx   sex anatom_site_general  \\\n",
       "0  ISIC_0015670       0  IP_1235828        60.0  male     lower extremity   \n",
       "1  ISIC_0015845       0  IP_8170065        60.0  male           head/neck   \n",
       "2  ISIC_0015864       0  IP_6724798        60.0  male     posterior torso   \n",
       "3  ISIC_0015902       0  IP_4111386        65.0  male      anterior torso   \n",
       "4  ISIC_0024200       0  IP_8313778        55.0  male      anterior torso   \n",
       "\n",
       "   clin_size_long_diam_mm          image_type tbp_tile_type   tbp_lv_A  ...  \\\n",
       "0                    3.04  TBP tile: close-up     3D: white  20.244422  ...   \n",
       "1                    1.10  TBP tile: close-up     3D: white  31.712570  ...   \n",
       "2                    3.40  TBP tile: close-up        3D: XP  22.575830  ...   \n",
       "3                    3.22  TBP tile: close-up        3D: XP  14.242329  ...   \n",
       "4                    2.73  TBP tile: close-up     3D: white  24.725520  ...   \n",
       "\n",
       "    lesion_id  iddx_full  iddx_1  iddx_2  iddx_3  iddx_4  iddx_5  \\\n",
       "0         NaN     Benign  Benign     NaN     NaN     NaN     NaN   \n",
       "1  IL_6727506     Benign  Benign     NaN     NaN     NaN     NaN   \n",
       "2         NaN     Benign  Benign     NaN     NaN     NaN     NaN   \n",
       "3         NaN     Benign  Benign     NaN     NaN     NaN     NaN   \n",
       "4         NaN     Benign  Benign     NaN     NaN     NaN     NaN   \n",
       "\n",
       "   mel_mitotic_index  mel_thick_mm  tbp_lv_dnn_lesion_confidence  \n",
       "0                NaN           NaN                     97.517282  \n",
       "1                NaN           NaN                      3.141455  \n",
       "2                NaN           NaN                     99.804040  \n",
       "3                NaN           NaN                     99.989998  \n",
       "4                NaN           NaN                     70.442510  \n",
       "\n",
       "[5 rows x 55 columns]"
      ]
     },
     "execution_count": 3,
     "metadata": {},
     "output_type": "execute_result"
    }
   ],
   "source": [
    "df = pd.read_csv('/kaggle/input/isic-2024-challenge/train-metadata.csv', low_memory=False)\n",
    "df.replace([float('inf'), float('-inf')], pd.NA, inplace=True)\n",
    "df.drop_duplicates(inplace=True)\n",
    "df.head()"
   ]
  },
  {
   "cell_type": "code",
   "execution_count": 4,
   "id": "9e9ed592",
   "metadata": {
    "execution": {
     "iopub.execute_input": "2024-07-27T21:34:04.331072Z",
     "iopub.status.busy": "2024-07-27T21:34:04.330728Z",
     "iopub.status.idle": "2024-07-27T21:34:04.788426Z",
     "shell.execute_reply": "2024-07-27T21:34:04.787357Z"
    },
    "papermill": {
     "duration": 0.471984,
     "end_time": "2024-07-27T21:34:04.790894",
     "exception": false,
     "start_time": "2024-07-27T21:34:04.318910",
     "status": "completed"
    },
    "tags": []
   },
   "outputs": [],
   "source": [
    "positive_eg = df[df['target'] == 1]\n",
    "negative_eg = df[df['target'] == 0]\n",
    "\n",
    "final_test_df = pd.concat([positive_eg.copy()[:50], negative_eg.copy()[:50]]).reset_index().drop(columns = ['index'])\n",
    "\n",
    "\n",
    "positive_eg = positive_eg.copy()[51:]\n",
    "negative_eg = negative_eg.copy()[51:].sample(800)\n",
    "\n",
    "#negative_eg = negative_eg.copy()[51:]\n",
    "\n",
    "df = pd.concat([positive_eg, negative_eg]).reset_index().drop(columns = ['index'])"
   ]
  },
  {
   "cell_type": "code",
   "execution_count": 5,
   "id": "8fe05aaa",
   "metadata": {
    "execution": {
     "iopub.execute_input": "2024-07-27T21:34:04.815136Z",
     "iopub.status.busy": "2024-07-27T21:34:04.814803Z",
     "iopub.status.idle": "2024-07-27T21:34:04.988019Z",
     "shell.execute_reply": "2024-07-27T21:34:04.986766Z"
    },
    "papermill": {
     "duration": 0.188543,
     "end_time": "2024-07-27T21:34:04.991343",
     "exception": false,
     "start_time": "2024-07-27T21:34:04.802800",
     "status": "completed"
    },
    "tags": []
   },
   "outputs": [
    {
     "data": {
      "image/png": "[encoded data removed]",
      "text/plain": [
       "<Figure size 400x400 with 1 Axes>"
      ]
     },
     "metadata": {},
     "output_type": "display_data"
    }
   ],
   "source": [
    "dist = df.target.value_counts()\n",
    "\n",
    "plt.figure(figsize=(4, 4))\n",
    "plt.pie(dist.values, labels=dist.index.astype(str), autopct='%1.1f%%', startangle=90, wedgeprops=dict(width=0.3))\n",
    "\n",
    "centre_circle = plt.Circle((0,0),0.70,fc='white')\n",
    "fig = plt.gcf()\n",
    "fig.gca().add_artist(centre_circle)\n",
    "\n",
    "plt.title('Value Counts of Target Classes')\n",
    "plt.show()"
   ]
  },
  {
   "cell_type": "code",
   "execution_count": 6,
   "id": "ae3d2e6f",
   "metadata": {
    "execution": {
     "iopub.execute_input": "2024-07-27T21:34:05.044457Z",
     "iopub.status.busy": "2024-07-27T21:34:05.043919Z",
     "iopub.status.idle": "2024-07-27T21:34:05.082404Z",
     "shell.execute_reply": "2024-07-27T21:34:05.081477Z"
    },
    "papermill": {
     "duration": 0.067081,
     "end_time": "2024-07-27T21:34:05.084338",
     "exception": false,
     "start_time": "2024-07-27T21:34:05.017257",
     "status": "completed"
    },
    "tags": []
   },
   "outputs": [
    {
     "data": {
      "text/html": [
       "<div>\n",
       "<style scoped>\n",
       "    .dataframe tbody tr th:only-of-type {\n",
       "        vertical-align: middle;\n",
       "    }\n",
       "\n",
       "    .dataframe tbody tr th {\n",
       "        vertical-align: top;\n",
       "    }\n",
       "\n",
       "    .dataframe thead th {\n",
       "        text-align: right;\n",
       "    }\n",
       "</style>\n",
       "<table border=\"1\" class=\"dataframe\">\n",
       "  <thead>\n",
       "    <tr style=\"text-align: right;\">\n",
       "      <th></th>\n",
       "      <th>isic_id</th>\n",
       "      <th>patient_id</th>\n",
       "      <th>age_approx</th>\n",
       "      <th>sex</th>\n",
       "      <th>anatom_site_general</th>\n",
       "      <th>clin_size_long_diam_mm</th>\n",
       "      <th>image_type</th>\n",
       "      <th>tbp_tile_type</th>\n",
       "      <th>tbp_lv_A</th>\n",
       "      <th>tbp_lv_Aext</th>\n",
       "      <th>...</th>\n",
       "      <th>tbp_lv_radial_color_std_max</th>\n",
       "      <th>tbp_lv_stdL</th>\n",
       "      <th>tbp_lv_stdLExt</th>\n",
       "      <th>tbp_lv_symm_2axis</th>\n",
       "      <th>tbp_lv_symm_2axis_angle</th>\n",
       "      <th>tbp_lv_x</th>\n",
       "      <th>tbp_lv_y</th>\n",
       "      <th>tbp_lv_z</th>\n",
       "      <th>attribution</th>\n",
       "      <th>copyright_license</th>\n",
       "    </tr>\n",
       "  </thead>\n",
       "  <tbody>\n",
       "    <tr>\n",
       "      <th>0</th>\n",
       "      <td>ISIC_0015657</td>\n",
       "      <td>IP_6074337</td>\n",
       "      <td>45.0</td>\n",
       "      <td>male</td>\n",
       "      <td>posterior torso</td>\n",
       "      <td>2.70</td>\n",
       "      <td>TBP tile: close-up</td>\n",
       "      <td>3D: XP</td>\n",
       "      <td>22.80433</td>\n",
       "      <td>20.007270</td>\n",
       "      <td>...</td>\n",
       "      <td>0.304827</td>\n",
       "      <td>1.281532</td>\n",
       "      <td>2.299935</td>\n",
       "      <td>0.479339</td>\n",
       "      <td>20</td>\n",
       "      <td>-155.06510</td>\n",
       "      <td>1511.222000</td>\n",
       "      <td>113.980100</td>\n",
       "      <td>Memorial Sloan Kettering Cancer Center</td>\n",
       "      <td>CC-BY</td>\n",
       "    </tr>\n",
       "    <tr>\n",
       "      <th>1</th>\n",
       "      <td>ISIC_0015729</td>\n",
       "      <td>IP_1664139</td>\n",
       "      <td>35.0</td>\n",
       "      <td>female</td>\n",
       "      <td>lower extremity</td>\n",
       "      <td>2.52</td>\n",
       "      <td>TBP tile: close-up</td>\n",
       "      <td>3D: XP</td>\n",
       "      <td>16.64867</td>\n",
       "      <td>9.657964</td>\n",
       "      <td>...</td>\n",
       "      <td>0.000000</td>\n",
       "      <td>1.271940</td>\n",
       "      <td>2.011223</td>\n",
       "      <td>0.426230</td>\n",
       "      <td>25</td>\n",
       "      <td>-112.36924</td>\n",
       "      <td>629.535889</td>\n",
       "      <td>-15.019287</td>\n",
       "      <td>Frazer Institute, The University of Queensland...</td>\n",
       "      <td>CC-BY</td>\n",
       "    </tr>\n",
       "    <tr>\n",
       "      <th>2</th>\n",
       "      <td>ISIC_0015740</td>\n",
       "      <td>IP_7142616</td>\n",
       "      <td>65.0</td>\n",
       "      <td>male</td>\n",
       "      <td>posterior torso</td>\n",
       "      <td>3.16</td>\n",
       "      <td>TBP tile: close-up</td>\n",
       "      <td>3D: XP</td>\n",
       "      <td>24.25384</td>\n",
       "      <td>19.937380</td>\n",
       "      <td>...</td>\n",
       "      <td>0.230742</td>\n",
       "      <td>1.080308</td>\n",
       "      <td>2.705857</td>\n",
       "      <td>0.366071</td>\n",
       "      <td>110</td>\n",
       "      <td>-84.29282</td>\n",
       "      <td>1303.978000</td>\n",
       "      <td>-28.576050</td>\n",
       "      <td>FNQH Cairns</td>\n",
       "      <td>CC-BY</td>\n",
       "    </tr>\n",
       "  </tbody>\n",
       "</table>\n",
       "<p>3 rows × 44 columns</p>\n",
       "</div>"
      ],
      "text/plain": [
       "        isic_id  patient_id  age_approx     sex anatom_site_general  \\\n",
       "0  ISIC_0015657  IP_6074337        45.0    male     posterior torso   \n",
       "1  ISIC_0015729  IP_1664139        35.0  female     lower extremity   \n",
       "2  ISIC_0015740  IP_7142616        65.0    male     posterior torso   \n",
       "\n",
       "   clin_size_long_diam_mm          image_type tbp_tile_type  tbp_lv_A  \\\n",
       "0                    2.70  TBP tile: close-up        3D: XP  22.80433   \n",
       "1                    2.52  TBP tile: close-up        3D: XP  16.64867   \n",
       "2                    3.16  TBP tile: close-up        3D: XP  24.25384   \n",
       "\n",
       "   tbp_lv_Aext  ...  tbp_lv_radial_color_std_max  tbp_lv_stdL  tbp_lv_stdLExt  \\\n",
       "0    20.007270  ...                     0.304827     1.281532        2.299935   \n",
       "1     9.657964  ...                     0.000000     1.271940        2.011223   \n",
       "2    19.937380  ...                     0.230742     1.080308        2.705857   \n",
       "\n",
       "   tbp_lv_symm_2axis  tbp_lv_symm_2axis_angle   tbp_lv_x     tbp_lv_y  \\\n",
       "0           0.479339                       20 -155.06510  1511.222000   \n",
       "1           0.426230                       25 -112.36924   629.535889   \n",
       "2           0.366071                      110  -84.29282  1303.978000   \n",
       "\n",
       "     tbp_lv_z                                        attribution  \\\n",
       "0  113.980100             Memorial Sloan Kettering Cancer Center   \n",
       "1  -15.019287  Frazer Institute, The University of Queensland...   \n",
       "2  -28.576050                                        FNQH Cairns   \n",
       "\n",
       "   copyright_license  \n",
       "0              CC-BY  \n",
       "1              CC-BY  \n",
       "2              CC-BY  \n",
       "\n",
       "[3 rows x 44 columns]"
      ]
     },
     "execution_count": 6,
     "metadata": {},
     "output_type": "execute_result"
    }
   ],
   "source": [
    "df_test = pd.read_csv('/kaggle/input/isic-2024-challenge/test-metadata.csv', low_memory=False)\n",
    "df_test"
   ]
  },
  {
   "cell_type": "markdown",
   "id": "b23cb2bc",
   "metadata": {
    "papermill": {
     "duration": 0.011556,
     "end_time": "2024-07-27T21:34:05.107445",
     "exception": false,
     "start_time": "2024-07-27T21:34:05.095889",
     "status": "completed"
    },
    "tags": []
   },
   "source": [
    "## Preprocessing Pipeline"
   ]
  },
  {
   "cell_type": "code",
   "execution_count": 7,
   "id": "fa37ee92",
   "metadata": {
    "execution": {
     "iopub.execute_input": "2024-07-27T21:34:05.131645Z",
     "iopub.status.busy": "2024-07-27T21:34:05.131351Z",
     "iopub.status.idle": "2024-07-27T21:34:05.136790Z",
     "shell.execute_reply": "2024-07-27T21:34:05.136062Z"
    },
    "papermill": {
     "duration": 0.019483,
     "end_time": "2024-07-27T21:34:05.138652",
     "exception": false,
     "start_time": "2024-07-27T21:34:05.119169",
     "status": "completed"
    },
    "tags": []
   },
   "outputs": [],
   "source": [
    "df['tbp_lv_location_simple'] = df['tbp_lv_location_simple'].replace('Unknown', np.nan)"
   ]
  },
  {
   "cell_type": "code",
   "execution_count": 8,
   "id": "07893715",
   "metadata": {
    "execution": {
     "iopub.execute_input": "2024-07-27T21:34:05.163021Z",
     "iopub.status.busy": "2024-07-27T21:34:05.162757Z",
     "iopub.status.idle": "2024-07-27T21:34:05.170790Z",
     "shell.execute_reply": "2024-07-27T21:34:05.169903Z"
    },
    "papermill": {
     "duration": 0.022251,
     "end_time": "2024-07-27T21:34:05.172668",
     "exception": false,
     "start_time": "2024-07-27T21:34:05.150417",
     "status": "completed"
    },
    "tags": []
   },
   "outputs": [],
   "source": [
    "columns_to_drop = [\n",
    "    'patient_id', 'iddx_2', 'iddx_3', 'iddx_4', 'iddx_5', \n",
    "    'mel_mitotic_index', 'mel_thick_mm', 'tbp_tile_type','lesion_id', 'iddx_full', \n",
    "    'iddx_1', 'attribution', 'copyright_license', 'image_type', 'isic_id','tbp_lv_dnn_lesion_confidence'\n",
    "]\n",
    "\n",
    "num_cols = [\n",
    "    'age_approx', 'clin_size_long_diam_mm', 'tbp_lv_A', 'tbp_lv_Aext', \n",
    "    'tbp_lv_B', 'tbp_lv_Bext', 'tbp_lv_C', 'tbp_lv_Cext', 'tbp_lv_H', \n",
    "    'tbp_lv_Hext', 'tbp_lv_L', 'tbp_lv_Lext', 'tbp_lv_areaMM2', \n",
    "    'tbp_lv_area_perim_ratio', 'tbp_lv_color_std_mean', 'tbp_lv_deltaA', \n",
    "    'tbp_lv_deltaB', 'tbp_lv_deltaL', 'tbp_lv_deltaLB', 'tbp_lv_deltaLBnorm', \n",
    "    'tbp_lv_eccentricity', 'tbp_lv_minorAxisMM', 'tbp_lv_nevi_confidence', \n",
    "    'tbp_lv_norm_border', 'tbp_lv_norm_color', 'tbp_lv_perimeterMM', \n",
    "    'tbp_lv_radial_color_std_max', 'tbp_lv_stdL', 'tbp_lv_stdLExt', \n",
    "    'tbp_lv_symm_2axis', 'tbp_lv_x', 'tbp_lv_y', 'tbp_lv_z'\n",
    "]\n",
    "\n",
    "cat_cols = [\n",
    "    'sex', 'anatom_site_general', \n",
    "    'tbp_lv_location', 'tbp_lv_location_simple', \n",
    "    'tbp_lv_symm_2axis_angle'\n",
    "]\n",
    "\n",
    "df.drop(columns=columns_to_drop, inplace=True)"
   ]
  },
  {
   "cell_type": "code",
   "execution_count": 9,
   "id": "2d5c02c9",
   "metadata": {
    "execution": {
     "iopub.execute_input": "2024-07-27T21:34:05.197640Z",
     "iopub.status.busy": "2024-07-27T21:34:05.197363Z",
     "iopub.status.idle": "2024-07-27T21:34:05.201398Z",
     "shell.execute_reply": "2024-07-27T21:34:05.200625Z"
    },
    "papermill": {
     "duration": 0.018859,
     "end_time": "2024-07-27T21:34:05.203337",
     "exception": false,
     "start_time": "2024-07-27T21:34:05.184478",
     "status": "completed"
    },
    "tags": []
   },
   "outputs": [],
   "source": [
    "target = list(df.target)"
   ]
  },
  {
   "cell_type": "code",
   "execution_count": 10,
   "id": "fc3e053e",
   "metadata": {
    "execution": {
     "iopub.execute_input": "2024-07-27T21:34:05.228866Z",
     "iopub.status.busy": "2024-07-27T21:34:05.228584Z",
     "iopub.status.idle": "2024-07-27T21:34:05.292139Z",
     "shell.execute_reply": "2024-07-27T21:34:05.291163Z"
    },
    "papermill": {
     "duration": 0.078761,
     "end_time": "2024-07-27T21:34:05.294389",
     "exception": false,
     "start_time": "2024-07-27T21:34:05.215628",
     "status": "completed"
    },
    "tags": []
   },
   "outputs": [
    {
     "data": {
      "text/html": [
       "<div>\n",
       "<style scoped>\n",
       "    .dataframe tbody tr th:only-of-type {\n",
       "        vertical-align: middle;\n",
       "    }\n",
       "\n",
       "    .dataframe tbody tr th {\n",
       "        vertical-align: top;\n",
       "    }\n",
       "\n",
       "    .dataframe thead th {\n",
       "        text-align: right;\n",
       "    }\n",
       "</style>\n",
       "<table border=\"1\" class=\"dataframe\">\n",
       "  <thead>\n",
       "    <tr style=\"text-align: right;\">\n",
       "      <th></th>\n",
       "      <th>num__age_approx</th>\n",
       "      <th>num__clin_size_long_diam_mm</th>\n",
       "      <th>num__tbp_lv_A</th>\n",
       "      <th>num__tbp_lv_Aext</th>\n",
       "      <th>num__tbp_lv_B</th>\n",
       "      <th>num__tbp_lv_Bext</th>\n",
       "      <th>num__tbp_lv_C</th>\n",
       "      <th>num__tbp_lv_Cext</th>\n",
       "      <th>num__tbp_lv_H</th>\n",
       "      <th>num__tbp_lv_Hext</th>\n",
       "      <th>...</th>\n",
       "      <th>cat__tbp_lv_symm_2axis_angle_135</th>\n",
       "      <th>cat__tbp_lv_symm_2axis_angle_140</th>\n",
       "      <th>cat__tbp_lv_symm_2axis_angle_145</th>\n",
       "      <th>cat__tbp_lv_symm_2axis_angle_150</th>\n",
       "      <th>cat__tbp_lv_symm_2axis_angle_155</th>\n",
       "      <th>cat__tbp_lv_symm_2axis_angle_160</th>\n",
       "      <th>cat__tbp_lv_symm_2axis_angle_165</th>\n",
       "      <th>cat__tbp_lv_symm_2axis_angle_170</th>\n",
       "      <th>cat__tbp_lv_symm_2axis_angle_175</th>\n",
       "      <th>target</th>\n",
       "    </tr>\n",
       "  </thead>\n",
       "  <tbody>\n",
       "    <tr>\n",
       "      <th>0</th>\n",
       "      <td>1.608562</td>\n",
       "      <td>3.304716</td>\n",
       "      <td>-0.146960</td>\n",
       "      <td>0.057869</td>\n",
       "      <td>0.741393</td>\n",
       "      <td>0.460534</td>\n",
       "      <td>0.465017</td>\n",
       "      <td>0.347192</td>\n",
       "      <td>0.684286</td>\n",
       "      <td>0.199780</td>\n",
       "      <td>...</td>\n",
       "      <td>0.0</td>\n",
       "      <td>1.0</td>\n",
       "      <td>0.0</td>\n",
       "      <td>0.0</td>\n",
       "      <td>0.0</td>\n",
       "      <td>0.0</td>\n",
       "      <td>0.0</td>\n",
       "      <td>0.0</td>\n",
       "      <td>0.0</td>\n",
       "      <td>1</td>\n",
       "    </tr>\n",
       "    <tr>\n",
       "      <th>1</th>\n",
       "      <td>-0.308246</td>\n",
       "      <td>2.133627</td>\n",
       "      <td>0.484081</td>\n",
       "      <td>-0.674317</td>\n",
       "      <td>-0.327548</td>\n",
       "      <td>0.077557</td>\n",
       "      <td>-0.039292</td>\n",
       "      <td>-0.264858</td>\n",
       "      <td>-0.659930</td>\n",
       "      <td>0.710843</td>\n",
       "      <td>...</td>\n",
       "      <td>0.0</td>\n",
       "      <td>1.0</td>\n",
       "      <td>0.0</td>\n",
       "      <td>0.0</td>\n",
       "      <td>0.0</td>\n",
       "      <td>0.0</td>\n",
       "      <td>0.0</td>\n",
       "      <td>0.0</td>\n",
       "      <td>0.0</td>\n",
       "      <td>1</td>\n",
       "    </tr>\n",
       "    <tr>\n",
       "      <th>2</th>\n",
       "      <td>0.841839</td>\n",
       "      <td>4.283703</td>\n",
       "      <td>0.943566</td>\n",
       "      <td>1.185055</td>\n",
       "      <td>-1.009800</td>\n",
       "      <td>-0.934203</td>\n",
       "      <td>-0.229635</td>\n",
       "      <td>-0.122141</td>\n",
       "      <td>-1.670287</td>\n",
       "      <td>-1.746553</td>\n",
       "      <td>...</td>\n",
       "      <td>0.0</td>\n",
       "      <td>0.0</td>\n",
       "      <td>0.0</td>\n",
       "      <td>0.0</td>\n",
       "      <td>0.0</td>\n",
       "      <td>0.0</td>\n",
       "      <td>0.0</td>\n",
       "      <td>0.0</td>\n",
       "      <td>0.0</td>\n",
       "      <td>1</td>\n",
       "    </tr>\n",
       "    <tr>\n",
       "      <th>3</th>\n",
       "      <td>1.225200</td>\n",
       "      <td>-0.891996</td>\n",
       "      <td>0.924092</td>\n",
       "      <td>1.222338</td>\n",
       "      <td>0.289339</td>\n",
       "      <td>0.017499</td>\n",
       "      <td>0.628753</td>\n",
       "      <td>0.572211</td>\n",
       "      <td>-0.487955</td>\n",
       "      <td>-1.077123</td>\n",
       "      <td>...</td>\n",
       "      <td>0.0</td>\n",
       "      <td>0.0</td>\n",
       "      <td>0.0</td>\n",
       "      <td>0.0</td>\n",
       "      <td>0.0</td>\n",
       "      <td>1.0</td>\n",
       "      <td>0.0</td>\n",
       "      <td>0.0</td>\n",
       "      <td>0.0</td>\n",
       "      <td>1</td>\n",
       "    </tr>\n",
       "    <tr>\n",
       "      <th>4</th>\n",
       "      <td>0.000000</td>\n",
       "      <td>-1.235565</td>\n",
       "      <td>0.512271</td>\n",
       "      <td>1.281383</td>\n",
       "      <td>-0.829114</td>\n",
       "      <td>-0.374556</td>\n",
       "      <td>-0.365912</td>\n",
       "      <td>0.322924</td>\n",
       "      <td>-1.155236</td>\n",
       "      <td>-1.396874</td>\n",
       "      <td>...</td>\n",
       "      <td>0.0</td>\n",
       "      <td>0.0</td>\n",
       "      <td>0.0</td>\n",
       "      <td>0.0</td>\n",
       "      <td>0.0</td>\n",
       "      <td>0.0</td>\n",
       "      <td>0.0</td>\n",
       "      <td>0.0</td>\n",
       "      <td>0.0</td>\n",
       "      <td>1</td>\n",
       "    </tr>\n",
       "  </tbody>\n",
       "</table>\n",
       "<p>5 rows × 101 columns</p>\n",
       "</div>"
      ],
      "text/plain": [
       "   num__age_approx  num__clin_size_long_diam_mm  num__tbp_lv_A  \\\n",
       "0         1.608562                     3.304716      -0.146960   \n",
       "1        -0.308246                     2.133627       0.484081   \n",
       "2         0.841839                     4.283703       0.943566   \n",
       "3         1.225200                    -0.891996       0.924092   \n",
       "4         0.000000                    -1.235565       0.512271   \n",
       "\n",
       "   num__tbp_lv_Aext  num__tbp_lv_B  num__tbp_lv_Bext  num__tbp_lv_C  \\\n",
       "0          0.057869       0.741393          0.460534       0.465017   \n",
       "1         -0.674317      -0.327548          0.077557      -0.039292   \n",
       "2          1.185055      -1.009800         -0.934203      -0.229635   \n",
       "3          1.222338       0.289339          0.017499       0.628753   \n",
       "4          1.281383      -0.829114         -0.374556      -0.365912   \n",
       "\n",
       "   num__tbp_lv_Cext  num__tbp_lv_H  num__tbp_lv_Hext  ...  \\\n",
       "0          0.347192       0.684286          0.199780  ...   \n",
       "1         -0.264858      -0.659930          0.710843  ...   \n",
       "2         -0.122141      -1.670287         -1.746553  ...   \n",
       "3          0.572211      -0.487955         -1.077123  ...   \n",
       "4          0.322924      -1.155236         -1.396874  ...   \n",
       "\n",
       "   cat__tbp_lv_symm_2axis_angle_135  cat__tbp_lv_symm_2axis_angle_140  \\\n",
       "0                               0.0                               1.0   \n",
       "1                               0.0                               1.0   \n",
       "2                               0.0                               0.0   \n",
       "3                               0.0                               0.0   \n",
       "4                               0.0                               0.0   \n",
       "\n",
       "   cat__tbp_lv_symm_2axis_angle_145  cat__tbp_lv_symm_2axis_angle_150  \\\n",
       "0                               0.0                               0.0   \n",
       "1                               0.0                               0.0   \n",
       "2                               0.0                               0.0   \n",
       "3                               0.0                               0.0   \n",
       "4                               0.0                               0.0   \n",
       "\n",
       "   cat__tbp_lv_symm_2axis_angle_155  cat__tbp_lv_symm_2axis_angle_160  \\\n",
       "0                               0.0                               0.0   \n",
       "1                               0.0                               0.0   \n",
       "2                               0.0                               0.0   \n",
       "3                               0.0                               1.0   \n",
       "4                               0.0                               0.0   \n",
       "\n",
       "   cat__tbp_lv_symm_2axis_angle_165  cat__tbp_lv_symm_2axis_angle_170  \\\n",
       "0                               0.0                               0.0   \n",
       "1                               0.0                               0.0   \n",
       "2                               0.0                               0.0   \n",
       "3                               0.0                               0.0   \n",
       "4                               0.0                               0.0   \n",
       "\n",
       "   cat__tbp_lv_symm_2axis_angle_175  target  \n",
       "0                               0.0       1  \n",
       "1                               0.0       1  \n",
       "2                               0.0       1  \n",
       "3                               0.0       1  \n",
       "4                               0.0       1  \n",
       "\n",
       "[5 rows x 101 columns]"
      ]
     },
     "execution_count": 10,
     "metadata": {},
     "output_type": "execute_result"
    }
   ],
   "source": [
    "\n",
    "\n",
    "class FeatureSelector(BaseEstimator, TransformerMixin):\n",
    "    def __init__(self, k=20):\n",
    "        self.k = k\n",
    "        self.selector = None\n",
    "\n",
    "    def fit(self, X, y):\n",
    "        self.selector = SelectKBest(score_func=f_classif, k=self.k)\n",
    "        self.selector.fit(X, y)\n",
    "        return self\n",
    "\n",
    "    def transform(self, X):\n",
    "        return X[:, self.selector.get_support(indices=True)]\n",
    "\n",
    "    def get_feature_names_out(self, feature_names):\n",
    "        return [feature_names[i] for i in self.selector.get_support(indices=True)]\n",
    "\n",
    "pipeline = Pipeline(steps=[\n",
    "    ('preprocessor', ColumnTransformer(\n",
    "        transformers=[\n",
    "            ('num', Pipeline(steps=[\n",
    "                ('imputer', SimpleImputer(strategy='mean')),\n",
    "                ('scaler', StandardScaler())\n",
    "            ]), num_cols),\n",
    "            ('cat', Pipeline(steps=[\n",
    "                ('imputer', SimpleImputer(strategy='most_frequent')),\n",
    "                ('onehot', OneHotEncoder(handle_unknown='ignore'))\n",
    "            ]), cat_cols)\n",
    "        ]\n",
    "    )),\n",
    "    ('feature_selector', FeatureSelector(k=100))\n",
    "])\n",
    "\n",
    "X = df[num_cols + cat_cols]\n",
    "y = df['target']\n",
    "\n",
    "X_reduced = pipeline.fit_transform(X, y)\n",
    "\n",
    "preprocessor = pipeline.named_steps['preprocessor']\n",
    "feature_selector = pipeline.named_steps['feature_selector']\n",
    "\n",
    "feature_names = preprocessor.get_feature_names_out()\n",
    "\n",
    "selected_feature_names = feature_selector.get_feature_names_out(feature_names)\n",
    "\n",
    "X_reduced_df = pd.DataFrame(X_reduced, columns=selected_feature_names)\n",
    "X_reduced_df['target'] = y.values\n",
    "\n",
    "X_reduced_df.head()"
   ]
  },
  {
   "cell_type": "code",
   "execution_count": 11,
   "id": "7a20f784",
   "metadata": {
    "execution": {
     "iopub.execute_input": "2024-07-27T21:34:05.321025Z",
     "iopub.status.busy": "2024-07-27T21:34:05.320764Z",
     "iopub.status.idle": "2024-07-27T21:34:05.324460Z",
     "shell.execute_reply": "2024-07-27T21:34:05.323627Z"
    },
    "papermill": {
     "duration": 0.018492,
     "end_time": "2024-07-27T21:34:05.326336",
     "exception": false,
     "start_time": "2024-07-27T21:34:05.307844",
     "status": "completed"
    },
    "tags": []
   },
   "outputs": [],
   "source": [
    "df = X_reduced_df"
   ]
  },
  {
   "cell_type": "markdown",
   "id": "df8197e7",
   "metadata": {
    "papermill": {
     "duration": 0.011943,
     "end_time": "2024-07-27T21:34:05.350331",
     "exception": false,
     "start_time": "2024-07-27T21:34:05.338388",
     "status": "completed"
    },
    "tags": []
   },
   "source": [
    "\n",
    "## Augementing Data using SMOTE\n"
   ]
  },
  {
   "cell_type": "code",
   "execution_count": 12,
   "id": "ceb55d39",
   "metadata": {
    "execution": {
     "iopub.execute_input": "2024-07-27T21:34:05.375782Z",
     "iopub.status.busy": "2024-07-27T21:34:05.375546Z",
     "iopub.status.idle": "2024-07-27T21:34:05.687773Z",
     "shell.execute_reply": "2024-07-27T21:34:05.686747Z"
    },
    "papermill": {
     "duration": 0.327523,
     "end_time": "2024-07-27T21:34:05.690247",
     "exception": false,
     "start_time": "2024-07-27T21:34:05.362724",
     "status": "completed"
    },
    "tags": []
   },
   "outputs": [
    {
     "name": "stderr",
     "output_type": "stream",
     "text": [
      "/tmp/ipykernel_24/4194984026.py:9: PerformanceWarning: DataFrame is highly fragmented.  This is usually the result of calling `frame.insert` many times, which has poor performance.  Consider joining all columns at once using pd.concat(axis=1) instead. To get a de-fragmented frame, use `newframe = frame.copy()`\n",
      "  df_resampled['target'] = y_resampled\n"
     ]
    }
   ],
   "source": [
    "X = df.drop(columns=['target'])\n",
    "y = df['target']\n",
    "\n",
    "rus = SVMSMOTE(sampling_strategy='auto', random_state=42, k_neighbors=10)\n",
    "\n",
    "X_resampled, y_resampled = rus.fit_resample(X, y)\n",
    "\n",
    "df_resampled = pd.DataFrame(X_resampled, columns=X.columns)\n",
    "df_resampled['target'] = y_resampled\n",
    "df_resampled.drop_duplicates(inplace = True)"
   ]
  },
  {
   "cell_type": "code",
   "execution_count": 13,
   "id": "844ffa46",
   "metadata": {
    "execution": {
     "iopub.execute_input": "2024-07-27T21:34:05.719199Z",
     "iopub.status.busy": "2024-07-27T21:34:05.718852Z",
     "iopub.status.idle": "2024-07-27T21:34:05.848969Z",
     "shell.execute_reply": "2024-07-27T21:34:05.847684Z"
    },
    "papermill": {
     "duration": 0.147973,
     "end_time": "2024-07-27T21:34:05.852393",
     "exception": false,
     "start_time": "2024-07-27T21:34:05.704420",
     "status": "completed"
    },
    "tags": []
   },
   "outputs": [
    {
     "data": {
      "image/png": "[encoded data removed]",
      "text/plain": [
       "<Figure size 400x400 with 1 Axes>"
      ]
     },
     "metadata": {},
     "output_type": "display_data"
    }
   ],
   "source": [
    "dist = df_resampled.target.value_counts()\n",
    "\n",
    "plt.figure(figsize=(4, 4))\n",
    "plt.pie(dist.values, labels=dist.index.astype(str), autopct='%1.1f%%', startangle=90, wedgeprops=dict(width=0.3))\n",
    "\n",
    "centre_circle = plt.Circle((0,0),0.70,fc='white')\n",
    "fig = plt.gcf()\n",
    "fig.gca().add_artist(centre_circle)\n",
    "\n",
    "plt.title('Value Counts of Target Classes')\n",
    "plt.show()"
   ]
  },
  {
   "cell_type": "code",
   "execution_count": 14,
   "id": "0f2be011",
   "metadata": {
    "execution": {
     "iopub.execute_input": "2024-07-27T21:34:05.913437Z",
     "iopub.status.busy": "2024-07-27T21:34:05.912338Z",
     "iopub.status.idle": "2024-07-27T21:34:05.920294Z",
     "shell.execute_reply": "2024-07-27T21:34:05.919206Z"
    },
    "papermill": {
     "duration": 0.041957,
     "end_time": "2024-07-27T21:34:05.923624",
     "exception": false,
     "start_time": "2024-07-27T21:34:05.881667",
     "status": "completed"
    },
    "tags": []
   },
   "outputs": [
    {
     "data": {
      "text/plain": [
       "(1600, 101)"
      ]
     },
     "execution_count": 14,
     "metadata": {},
     "output_type": "execute_result"
    }
   ],
   "source": [
    "df = df_resampled\n",
    "df.shape"
   ]
  },
  {
   "cell_type": "markdown",
   "id": "4ae76c08",
   "metadata": {
    "papermill": {
     "duration": 0.012638,
     "end_time": "2024-07-27T21:34:05.957284",
     "exception": false,
     "start_time": "2024-07-27T21:34:05.944646",
     "status": "completed"
    },
    "tags": []
   },
   "source": [
    "## Applying Models"
   ]
  },
  {
   "cell_type": "code",
   "execution_count": 15,
   "id": "5d9178a2",
   "metadata": {
    "execution": {
     "iopub.execute_input": "2024-07-27T21:34:05.984538Z",
     "iopub.status.busy": "2024-07-27T21:34:05.984262Z",
     "iopub.status.idle": "2024-07-27T21:34:05.988145Z",
     "shell.execute_reply": "2024-07-27T21:34:05.987294Z"
    },
    "papermill": {
     "duration": 0.019698,
     "end_time": "2024-07-27T21:34:05.990101",
     "exception": false,
     "start_time": "2024-07-27T21:34:05.970403",
     "status": "completed"
    },
    "tags": []
   },
   "outputs": [],
   "source": [
    "pAUCscores = []\n",
    "confMatrix = []\n",
    "cfReport = []"
   ]
  },
  {
   "cell_type": "code",
   "execution_count": 16,
   "id": "5dc6b097",
   "metadata": {
    "execution": {
     "iopub.execute_input": "2024-07-27T21:34:06.018268Z",
     "iopub.status.busy": "2024-07-27T21:34:06.017950Z",
     "iopub.status.idle": "2024-07-27T21:34:06.026930Z",
     "shell.execute_reply": "2024-07-27T21:34:06.026116Z"
    },
    "papermill": {
     "duration": 0.025336,
     "end_time": "2024-07-27T21:34:06.028817",
     "exception": false,
     "start_time": "2024-07-27T21:34:06.003481",
     "status": "completed"
    },
    "tags": []
   },
   "outputs": [],
   "source": [
    "class ParticipantVisibleError(Exception):\n",
    "    pass\n",
    "\n",
    "def score(solution: pd.DataFrame, submission: pd.DataFrame, row_id_column_name: str, min_tpr: float=0.80) -> float:\n",
    "    del solution[row_id_column_name]\n",
    "    del submission[row_id_column_name]\n",
    "\n",
    "    if not pd.api.types.is_numeric_dtype(submission.values):\n",
    "        raise ParticipantVisibleError('Submission target column must be numeric')\n",
    "\n",
    "    v_gt = abs(np.asarray(solution.values) - 1)\n",
    "    v_pred = -1.0 * np.asarray(submission.values)\n",
    "\n",
    "    max_fpr = abs(1 - min_tpr)\n",
    "\n",
    "    fpr, tpr, _ = roc_curve(v_gt, v_pred, sample_weight=None)\n",
    "    if max_fpr is None or max_fpr == 1:\n",
    "        return auc(fpr, tpr)\n",
    "    if max_fpr <= 0 or max_fpr > 1:\n",
    "        raise ValueError(\"Expected min_tpr in range [0, 1), got: %r\" % min_tpr)\n",
    "\n",
    "    stop = np.searchsorted(fpr, max_fpr, \"right\")\n",
    "    x_interp = [fpr[stop - 1], fpr[stop]]\n",
    "    y_interp = [tpr[stop - 1], tpr[stop]]\n",
    "    tpr = np.append(tpr[:stop], np.interp(max_fpr, x_interp, y_interp))\n",
    "    fpr = np.append(fpr[:stop], max_fpr)\n",
    "    partial_auc = auc(fpr, tpr)\n",
    "\n",
    "    return partial_auc\n"
   ]
  },
  {
   "cell_type": "markdown",
   "id": "146533da",
   "metadata": {
    "papermill": {
     "duration": 0.013583,
     "end_time": "2024-07-27T21:34:06.055639",
     "exception": false,
     "start_time": "2024-07-27T21:34:06.042056",
     "status": "completed"
    },
    "tags": []
   },
   "source": [
    "### Applying LightGBM"
   ]
  },
  {
   "cell_type": "code",
   "execution_count": 17,
   "id": "1229a8e5",
   "metadata": {
    "execution": {
     "iopub.execute_input": "2024-07-27T21:34:06.083268Z",
     "iopub.status.busy": "2024-07-27T21:34:06.082963Z",
     "iopub.status.idle": "2024-07-27T21:34:06.410414Z",
     "shell.execute_reply": "2024-07-27T21:34:06.409354Z"
    },
    "papermill": {
     "duration": 0.34403,
     "end_time": "2024-07-27T21:34:06.412644",
     "exception": false,
     "start_time": "2024-07-27T21:34:06.068614",
     "status": "completed"
    },
    "tags": []
   },
   "outputs": [
    {
     "name": "stdout",
     "output_type": "stream",
     "text": [
      "[LightGBM] [Warning] Found whitespace in feature_names, replace with underlines\n",
      "[LightGBM] [Info] Number of positive: 645, number of negative: 635\n",
      "[LightGBM] [Info] Auto-choosing col-wise multi-threading, the overhead of testing was 0.001123 seconds.\n",
      "You can set `force_col_wise=true` to remove the overhead.\n",
      "[LightGBM] [Info] Total Bins 9258\n",
      "[LightGBM] [Info] Number of data points in the train set: 1280, number of used features: 95\n",
      "[LightGBM] [Info] [binary:BoostFromScore]: pavg=0.503906 -> initscore=0.015625\n",
      "[LightGBM] [Info] Start training from score 0.015625\n"
     ]
    }
   ],
   "source": [
    "X = df.drop(columns=['target'])\n",
    "y = df['target']\n",
    "X_train, X_test, y_train, y_test = train_test_split(X, y, test_size=0.2, random_state=42)\n",
    "\n",
    "lgb_model = lgb.LGBMClassifier()\n",
    "lgb_model.fit(X_train, y_train)\n",
    "\n",
    "y_scores = lgb_model.predict_proba(X_test)[:, 1]\n",
    "y_pred = (y_scores > 0.5).astype(int)\n",
    "\n",
    "solution = pd.DataFrame({'row_id': range(len(y_test)), 'target': y_test})\n",
    "submission = pd.DataFrame({'row_id': range(len(y_scores)), 'prediction': y_scores})\n",
    "\n",
    "pAUC = score(solution, submission, 'row_id', min_tpr=0.80)\n",
    "\n",
    "pAUCscores.append(pAUC)\n",
    "confMatrix.append(confusion_matrix(y_test, y_pred))\n",
    "cfReport.append(classification_report(y_test, y_pred))"
   ]
  },
  {
   "cell_type": "markdown",
   "id": "82af8913",
   "metadata": {
    "papermill": {
     "duration": 0.013387,
     "end_time": "2024-07-27T21:34:06.440095",
     "exception": false,
     "start_time": "2024-07-27T21:34:06.426708",
     "status": "completed"
    },
    "tags": []
   },
   "source": [
    "### Applying XGBoost"
   ]
  },
  {
   "cell_type": "code",
   "execution_count": 18,
   "id": "22b9fc06",
   "metadata": {
    "execution": {
     "iopub.execute_input": "2024-07-27T21:34:06.468108Z",
     "iopub.status.busy": "2024-07-27T21:34:06.467784Z",
     "iopub.status.idle": "2024-07-27T21:34:06.964566Z",
     "shell.execute_reply": "2024-07-27T21:34:06.963571Z"
    },
    "papermill": {
     "duration": 0.513541,
     "end_time": "2024-07-27T21:34:06.966869",
     "exception": false,
     "start_time": "2024-07-27T21:34:06.453328",
     "status": "completed"
    },
    "tags": []
   },
   "outputs": [],
   "source": [
    "X = df.drop(columns=['target'])\n",
    "y = df['target']\n",
    "X_train, X_test, y_train, y_test = train_test_split(X, y, test_size=0.2, random_state=42)\n",
    "\n",
    "xgb_model = xgb.XGBClassifier(use_label_encoder=False, eval_metric='logloss')\n",
    "xgb_model.fit(X_train, y_train)\n",
    "\n",
    "y_scores = xgb_model.predict_proba(X_test)[:, 1]\n",
    "y_true = y_test\n",
    "y_pred = (y_scores > 0.5).astype(int)\n",
    "\n",
    "solution = pd.DataFrame({'row_id': range(len(y_test)), 'target': y_true})\n",
    "submission = pd.DataFrame({'row_id': range(len(y_scores)), 'prediction': y_scores})\n",
    "\n",
    "pAUC = score(solution, submission, 'row_id', min_tpr=0.80)\n",
    "\n",
    "pAUCscores.append(pAUC)\n",
    "confMatrix.append(confusion_matrix(y_test, y_pred))\n",
    "cfReport.append(classification_report(y_test, y_pred))"
   ]
  },
  {
   "cell_type": "markdown",
   "id": "a2082dbf",
   "metadata": {
    "papermill": {
     "duration": 0.014336,
     "end_time": "2024-07-27T21:34:07.000700",
     "exception": false,
     "start_time": "2024-07-27T21:34:06.986364",
     "status": "completed"
    },
    "tags": []
   },
   "source": [
    "### Apply CATBoost"
   ]
  },
  {
   "cell_type": "code",
   "execution_count": 19,
   "id": "102ed958",
   "metadata": {
    "execution": {
     "iopub.execute_input": "2024-07-27T21:34:07.029732Z",
     "iopub.status.busy": "2024-07-27T21:34:07.028812Z",
     "iopub.status.idle": "2024-07-27T21:34:13.541393Z",
     "shell.execute_reply": "2024-07-27T21:34:13.540563Z"
    },
    "papermill": {
     "duration": 6.529736,
     "end_time": "2024-07-27T21:34:13.543810",
     "exception": false,
     "start_time": "2024-07-27T21:34:07.014074",
     "status": "completed"
    },
    "tags": []
   },
   "outputs": [],
   "source": [
    "X = df.drop(columns=['target'])\n",
    "y = df['target']\n",
    "X_train, X_test, y_train, y_test = train_test_split(X, y, test_size=0.2, random_state=42)\n",
    "\n",
    "catboost_model = CatBoostClassifier(verbose=0)\n",
    "catboost_model.fit(X_train, y_train)\n",
    "\n",
    "y_pred = catboost_model.predict(X_test)\n",
    "y_true = y_test\n",
    "y_scores = catboost_model.predict_proba(X_test)[:, 1]\n",
    "\n",
    "solution = pd.DataFrame({'row_id': range(len(y_true)), 'target': y_true})\n",
    "submission = pd.DataFrame({'row_id': range(len(y_scores)), 'prediction': y_scores})\n",
    "\n",
    "pAUC = score(solution, submission, 'row_id', min_tpr=0.80)\n",
    "\n",
    "pAUCscores.append(pAUC)\n",
    "confMatrix.append(confusion_matrix(y_true, y_pred))\n",
    "cfReport.append(classification_report(y_true, y_pred))"
   ]
  },
  {
   "cell_type": "markdown",
   "id": "bf58fb32",
   "metadata": {
    "papermill": {
     "duration": 0.013184,
     "end_time": "2024-07-27T21:34:13.570816",
     "exception": false,
     "start_time": "2024-07-27T21:34:13.557632",
     "status": "completed"
    },
    "tags": []
   },
   "source": [
    "### Applying ADABoost"
   ]
  },
  {
   "cell_type": "code",
   "execution_count": 20,
   "id": "8e645375",
   "metadata": {
    "execution": {
     "iopub.execute_input": "2024-07-27T21:34:13.599566Z",
     "iopub.status.busy": "2024-07-27T21:34:13.599077Z",
     "iopub.status.idle": "2024-07-27T21:34:14.480629Z",
     "shell.execute_reply": "2024-07-27T21:34:14.479526Z"
    },
    "papermill": {
     "duration": 0.898495,
     "end_time": "2024-07-27T21:34:14.483122",
     "exception": false,
     "start_time": "2024-07-27T21:34:13.584627",
     "status": "completed"
    },
    "tags": []
   },
   "outputs": [],
   "source": [
    "X = df.drop(columns=['target'])\n",
    "y = df['target']\n",
    "X_train, X_test, y_train, y_test = train_test_split(X, y, test_size=0.2, random_state=42)\n",
    "\n",
    "adaboost_model = AdaBoostClassifier(n_estimators=100, random_state=42)\n",
    "adaboost_model.fit(X_train, y_train)\n",
    "\n",
    "y_pred = adaboost_model.predict(X_test)\n",
    "y_scores = adaboost_model.predict_proba(X_test)[:, 1]\n",
    "\n",
    "solution = pd.DataFrame({'row_id': range(len(y_true)), 'target': y_true})\n",
    "submission = pd.DataFrame({'row_id': range(len(y_scores)), 'prediction': y_scores})\n",
    "\n",
    "pAUC = score(solution, submission, 'row_id', min_tpr=0.80)\n",
    "conf_matrix = confusion_matrix(y_test, y_pred)\n",
    "cf_report = classification_report(y_test, y_pred)\n",
    "\n",
    "pAUCscores.append(pAUC)\n",
    "confMatrix.append(conf_matrix)\n",
    "cfReport.append(cf_report)"
   ]
  },
  {
   "cell_type": "markdown",
   "id": "cf48a3b5",
   "metadata": {
    "papermill": {
     "duration": 0.054213,
     "end_time": "2024-07-27T21:34:14.551655",
     "exception": false,
     "start_time": "2024-07-27T21:34:14.497442",
     "status": "completed"
    },
    "tags": []
   },
   "source": [
    "### Applying GBR"
   ]
  },
  {
   "cell_type": "code",
   "execution_count": 21,
   "id": "17a47eb2",
   "metadata": {
    "execution": {
     "iopub.execute_input": "2024-07-27T21:34:14.581247Z",
     "iopub.status.busy": "2024-07-27T21:34:14.580891Z",
     "iopub.status.idle": "2024-07-27T21:34:16.076605Z",
     "shell.execute_reply": "2024-07-27T21:34:16.075744Z"
    },
    "papermill": {
     "duration": 1.513423,
     "end_time": "2024-07-27T21:34:16.078997",
     "exception": false,
     "start_time": "2024-07-27T21:34:14.565574",
     "status": "completed"
    },
    "tags": []
   },
   "outputs": [],
   "source": [
    "X = df.drop(columns=['target'])\n",
    "y = df['target']\n",
    "\n",
    "X_train, X_test, y_train, y_test = train_test_split(X, y, test_size=0.2, random_state=42)\n",
    "\n",
    "gbm_model = GradientBoostingClassifier()\n",
    "gbm_model.fit(X_train, y_train)\n",
    "\n",
    "y_pred = gbm_model.predict(X_test)\n",
    "y_true = y_test\n",
    "\n",
    "y_scores = gbm_model.predict_proba(X_test)[:, 1]\n",
    "\n",
    "solution = pd.DataFrame({'row_id': range(len(y_true)), 'target': y_true})\n",
    "submission = pd.DataFrame({'row_id': range(len(y_scores)), 'prediction': y_scores})\n",
    "\n",
    "pAUC = score(solution, submission, 'row_id', min_tpr=0.80)\n",
    "\n",
    "pAUCscores.append(pAUC)\n",
    "confMatrix.append(confusion_matrix(y_true, y_pred))\n",
    "cfReport.append(classification_report(y_true, y_pred))"
   ]
  },
  {
   "cell_type": "markdown",
   "id": "95e4c3fd",
   "metadata": {
    "papermill": {
     "duration": 0.013487,
     "end_time": "2024-07-27T21:34:16.107010",
     "exception": false,
     "start_time": "2024-07-27T21:34:16.093523",
     "status": "completed"
    },
    "tags": []
   },
   "source": [
    "### Applying SVM"
   ]
  },
  {
   "cell_type": "code",
   "execution_count": 22,
   "id": "06415b48",
   "metadata": {
    "execution": {
     "iopub.execute_input": "2024-07-27T21:34:16.135899Z",
     "iopub.status.busy": "2024-07-27T21:34:16.135620Z",
     "iopub.status.idle": "2024-07-27T21:34:16.545106Z",
     "shell.execute_reply": "2024-07-27T21:34:16.544238Z"
    },
    "papermill": {
     "duration": 0.426594,
     "end_time": "2024-07-27T21:34:16.547295",
     "exception": false,
     "start_time": "2024-07-27T21:34:16.120701",
     "status": "completed"
    },
    "tags": []
   },
   "outputs": [],
   "source": [
    "X = df.drop(columns=['target'])\n",
    "y = df['target']\n",
    "\n",
    "X_train, X_test, y_train, y_test = train_test_split(X, y, test_size=0.2, random_state=42)\n",
    "\n",
    "svm_model = SVC(probability=True, random_state=42)\n",
    "svm_model.fit(X_train, y_train)\n",
    "\n",
    "y_pred = svm_model.predict(X_test)\n",
    "y_true = y_test\n",
    "\n",
    "y_scores = svm_model.predict_proba(X_test)[:, 1]\n",
    "\n",
    "solution = pd.DataFrame({'row_id': range(len(y_true)), 'target': y_true})\n",
    "submission = pd.DataFrame({'row_id': range(len(y_scores)), 'prediction': y_scores})\n",
    "\n",
    "pAUC = score(solution, submission, 'row_id', min_tpr=0.80)\n",
    "\n",
    "pAUCscores.append(pAUC)\n",
    "confMatrix.append(confusion_matrix(y_true, y_pred))\n",
    "cfReport.append(classification_report(y_true, y_pred))"
   ]
  },
  {
   "cell_type": "markdown",
   "id": "bd38824b",
   "metadata": {
    "papermill": {
     "duration": 0.013539,
     "end_time": "2024-07-27T21:34:16.574646",
     "exception": false,
     "start_time": "2024-07-27T21:34:16.561107",
     "status": "completed"
    },
    "tags": []
   },
   "source": [
    "### Applying RF"
   ]
  },
  {
   "cell_type": "code",
   "execution_count": 23,
   "id": "c497e0db",
   "metadata": {
    "execution": {
     "iopub.execute_input": "2024-07-27T21:34:16.602800Z",
     "iopub.status.busy": "2024-07-27T21:34:16.602247Z",
     "iopub.status.idle": "2024-07-27T21:34:17.154184Z",
     "shell.execute_reply": "2024-07-27T21:34:17.153419Z"
    },
    "papermill": {
     "duration": 0.568609,
     "end_time": "2024-07-27T21:34:17.156701",
     "exception": false,
     "start_time": "2024-07-27T21:34:16.588092",
     "status": "completed"
    },
    "tags": []
   },
   "outputs": [],
   "source": [
    "X = df.drop(columns=['target'])\n",
    "y = df['target']\n",
    "\n",
    "X_train, X_test, y_train, y_test = train_test_split(X, y, test_size=0.2, random_state=42)\n",
    "\n",
    "random_forest_model = RandomForestClassifier(random_state=42)\n",
    "random_forest_model.fit(X_train, y_train)\n",
    "\n",
    "y_pred = random_forest_model.predict(X_test)\n",
    "y_true = y_test\n",
    "\n",
    "y_scores = random_forest_model.predict_proba(X_test)[:, 1]\n",
    "\n",
    "solution = pd.DataFrame({'row_id': range(len(y_true)), 'target': y_true})\n",
    "submission = pd.DataFrame({'row_id': range(len(y_scores)), 'prediction': y_scores})\n",
    "\n",
    "pAUC = score(solution, submission, 'row_id', min_tpr=0.80)\n",
    "\n",
    "pAUCscores.append(pAUC)\n",
    "confMatrix.append(confusion_matrix(y_true, y_pred))\n",
    "cfReport.append(classification_report(y_true, y_pred))"
   ]
  },
  {
   "cell_type": "markdown",
   "id": "3df52b3f",
   "metadata": {
    "papermill": {
     "duration": 0.013469,
     "end_time": "2024-07-27T21:34:17.185304",
     "exception": false,
     "start_time": "2024-07-27T21:34:17.171835",
     "status": "completed"
    },
    "tags": []
   },
   "source": [
    "### Applying BRF"
   ]
  },
  {
   "cell_type": "code",
   "execution_count": 24,
   "id": "5430e8db",
   "metadata": {
    "execution": {
     "iopub.execute_input": "2024-07-27T21:34:17.214343Z",
     "iopub.status.busy": "2024-07-27T21:34:17.214013Z",
     "iopub.status.idle": "2024-07-27T21:34:17.955017Z",
     "shell.execute_reply": "2024-07-27T21:34:17.954189Z"
    },
    "papermill": {
     "duration": 0.758164,
     "end_time": "2024-07-27T21:34:17.957351",
     "exception": false,
     "start_time": "2024-07-27T21:34:17.199187",
     "status": "completed"
    },
    "tags": []
   },
   "outputs": [
    {
     "name": "stderr",
     "output_type": "stream",
     "text": [
      "/opt/conda/lib/python3.10/site-packages/imblearn/ensemble/_forest.py:577: FutureWarning: The default of `sampling_strategy` will change from `'auto'` to `'all'` in version 0.13. This change will follow the implementation proposed in the original paper. Set to `'all'` to silence this warning and adopt the future behaviour.\n",
      "  warn(\n",
      "/opt/conda/lib/python3.10/site-packages/imblearn/ensemble/_forest.py:589: FutureWarning: The default of `replacement` will change from `False` to `True` in version 0.13. This change will follow the implementation proposed in the original paper. Set to `True` to silence this warning and adopt the future behaviour.\n",
      "  warn(\n",
      "/opt/conda/lib/python3.10/site-packages/imblearn/ensemble/_forest.py:601: FutureWarning: The default of `bootstrap` will change from `True` to `False` in version 0.13. This change will follow the implementation proposed in the original paper. Set to `False` to silence this warning and adopt the future behaviour.\n",
      "  warn(\n"
     ]
    }
   ],
   "source": [
    "X = df.drop(columns=['target'])\n",
    "y = df['target']\n",
    "\n",
    "X_train, X_test, y_train, y_test = train_test_split(X, y, test_size=0.2, random_state=42)\n",
    "\n",
    "brf_model = BalancedRandomForestClassifier(random_state=42)\n",
    "brf_model.fit(X_train, y_train)\n",
    "\n",
    "y_pred = brf_model.predict(X_test)\n",
    "y_true = y_test\n",
    "\n",
    "y_scores = brf_model.predict_proba(X_test)[:, 1]\n",
    "\n",
    "solution = pd.DataFrame({'row_id': range(len(y_true)), 'target': y_true})\n",
    "submission = pd.DataFrame({'row_id': range(len(y_scores)), 'prediction': y_scores})\n",
    "\n",
    "pAUC = score(solution, submission, 'row_id', min_tpr=0.80)\n",
    "\n",
    "pAUCscores.append(pAUC)\n",
    "confMatrix.append(confusion_matrix(y_true, y_pred))\n",
    "cfReport.append(classification_report(y_true, y_pred))"
   ]
  },
  {
   "cell_type": "markdown",
   "id": "3e39aa36",
   "metadata": {
    "papermill": {
     "duration": 0.02136,
     "end_time": "2024-07-27T21:34:17.993638",
     "exception": false,
     "start_time": "2024-07-27T21:34:17.972278",
     "status": "completed"
    },
    "tags": []
   },
   "source": [
    "### Using Deep Neural Networks"
   ]
  },
  {
   "cell_type": "code",
   "execution_count": 25,
   "id": "60390b35",
   "metadata": {
    "execution": {
     "iopub.execute_input": "2024-07-27T21:34:18.034873Z",
     "iopub.status.busy": "2024-07-27T21:34:18.034224Z",
     "iopub.status.idle": "2024-07-27T21:34:26.184801Z",
     "shell.execute_reply": "2024-07-27T21:34:26.184021Z"
    },
    "papermill": {
     "duration": 8.172846,
     "end_time": "2024-07-27T21:34:26.187109",
     "exception": false,
     "start_time": "2024-07-27T21:34:18.014263",
     "status": "completed"
    },
    "tags": []
   },
   "outputs": [
    {
     "name": "stderr",
     "output_type": "stream",
     "text": [
      "/opt/conda/lib/python3.10/site-packages/keras/src/layers/core/dense.py:87: UserWarning: Do not pass an `input_shape`/`input_dim` argument to a layer. When using Sequential models, prefer using an `Input(shape)` object as the first layer in the model instead.\n",
      "  super().__init__(activity_regularizer=activity_regularizer, **kwargs)\n"
     ]
    },
    {
     "name": "stdout",
     "output_type": "stream",
     "text": [
      "Epoch 1/20\n"
     ]
    },
    {
     "name": "stderr",
     "output_type": "stream",
     "text": [
      "WARNING: All log messages before absl::InitializeLog() is called are written to STDERR\n",
      "I0000 00:00:1722116063.530804     100 device_compiler.h:186] Compiled cluster using XLA!  This line is logged at most once for the lifetime of the process.\n"
     ]
    },
    {
     "name": "stdout",
     "output_type": "stream",
     "text": [
      "16/16 - 5s - 325ms/step - accuracy: 0.6025 - loss: 9.4940 - val_accuracy: 0.7812 - val_loss: 8.1807\n",
      "Epoch 2/20\n",
      "16/16 - 0s - 4ms/step - accuracy: 0.7373 - loss: 7.2867 - val_accuracy: 0.8281 - val_loss: 6.2428\n",
      "Epoch 3/20\n",
      "16/16 - 0s - 4ms/step - accuracy: 0.7852 - loss: 5.5586 - val_accuracy: 0.8398 - val_loss: 4.7450\n",
      "Epoch 4/20\n",
      "16/16 - 0s - 4ms/step - accuracy: 0.7910 - loss: 4.2320 - val_accuracy: 0.8438 - val_loss: 3.6103\n",
      "Epoch 5/20\n",
      "16/16 - 0s - 4ms/step - accuracy: 0.8027 - loss: 3.2424 - val_accuracy: 0.8281 - val_loss: 2.7608\n",
      "Epoch 6/20\n",
      "16/16 - 0s - 4ms/step - accuracy: 0.8135 - loss: 2.4948 - val_accuracy: 0.8398 - val_loss: 2.1319\n",
      "Epoch 7/20\n",
      "16/16 - 0s - 4ms/step - accuracy: 0.8164 - loss: 1.9484 - val_accuracy: 0.8555 - val_loss: 1.6704\n",
      "Epoch 8/20\n",
      "16/16 - 0s - 4ms/step - accuracy: 0.8145 - loss: 1.5554 - val_accuracy: 0.8633 - val_loss: 1.3365\n",
      "Epoch 9/20\n",
      "16/16 - 0s - 4ms/step - accuracy: 0.8262 - loss: 1.2630 - val_accuracy: 0.8633 - val_loss: 1.0973\n",
      "Epoch 10/20\n",
      "16/16 - 0s - 4ms/step - accuracy: 0.8320 - loss: 1.0600 - val_accuracy: 0.8672 - val_loss: 0.9267\n",
      "Epoch 11/20\n",
      "16/16 - 0s - 4ms/step - accuracy: 0.8330 - loss: 0.9144 - val_accuracy: 0.8672 - val_loss: 0.8087\n",
      "Epoch 12/20\n",
      "16/16 - 0s - 4ms/step - accuracy: 0.8281 - loss: 0.8131 - val_accuracy: 0.8711 - val_loss: 0.7268\n",
      "Epoch 13/20\n",
      "16/16 - 0s - 4ms/step - accuracy: 0.8350 - loss: 0.7456 - val_accuracy: 0.8789 - val_loss: 0.6695\n",
      "Epoch 14/20\n",
      "16/16 - 0s - 4ms/step - accuracy: 0.8369 - loss: 0.6997 - val_accuracy: 0.8789 - val_loss: 0.6312\n",
      "Epoch 15/20\n",
      "16/16 - 0s - 4ms/step - accuracy: 0.8398 - loss: 0.6604 - val_accuracy: 0.8711 - val_loss: 0.6045\n",
      "Epoch 16/20\n",
      "16/16 - 0s - 4ms/step - accuracy: 0.8428 - loss: 0.6372 - val_accuracy: 0.8711 - val_loss: 0.5838\n",
      "Epoch 17/20\n",
      "16/16 - 0s - 4ms/step - accuracy: 0.8369 - loss: 0.6278 - val_accuracy: 0.8750 - val_loss: 0.5735\n",
      "Epoch 18/20\n",
      "16/16 - 0s - 4ms/step - accuracy: 0.8389 - loss: 0.6160 - val_accuracy: 0.8711 - val_loss: 0.5683\n",
      "Epoch 19/20\n",
      "16/16 - 0s - 4ms/step - accuracy: 0.8359 - loss: 0.6100 - val_accuracy: 0.8750 - val_loss: 0.5592\n",
      "Epoch 20/20\n",
      "16/16 - 0s - 4ms/step - accuracy: 0.8330 - loss: 0.6047 - val_accuracy: 0.8711 - val_loss: 0.5574\n",
      "\u001b[1m10/10\u001b[0m \u001b[32m━━━━━━━━━━━━━━━━━━━━\u001b[0m\u001b[37m\u001b[0m \u001b[1m1s\u001b[0m 2ms/step - accuracy: 0.8298 - loss: 0.6207  \n",
      "Test Accuracy: 0.8187500238418579\n",
      "\u001b[1m10/10\u001b[0m \u001b[32m━━━━━━━━━━━━━━━━━━━━\u001b[0m\u001b[37m\u001b[0m \u001b[1m0s\u001b[0m 1ms/step  \n",
      "\u001b[1m10/10\u001b[0m \u001b[32m━━━━━━━━━━━━━━━━━━━━\u001b[0m\u001b[37m\u001b[0m \u001b[1m0s\u001b[0m 1ms/step \n"
     ]
    }
   ],
   "source": [
    "X = df.drop(columns=['target'])\n",
    "y = df['target']\n",
    "\n",
    "X_train, X_test, y_train, y_test = train_test_split(X, y, test_size=0.2, random_state=42)\n",
    "\n",
    "model = Sequential([\n",
    "    Dense(128, activation='relu', input_shape=(X_train.shape[1],), kernel_regularizer=l2(0.05)),\n",
    "    Dropout(0.3),\n",
    "    Dense(64, activation='relu', kernel_regularizer=l2(0.05)),\n",
    "    Dropout(0.3),\n",
    "    Dense(1, activation='sigmoid', kernel_regularizer=l2(0.05))\n",
    "])\n",
    "\n",
    "model.compile(optimizer=\"adam\", loss='binary_crossentropy', metrics=['accuracy'])\n",
    "\n",
    "history = model.fit(X_train, y_train, epochs=20, validation_split=0.2, batch_size=64, verbose=2)\n",
    "\n",
    "loss, accuracy = model.evaluate(X_test, y_test)\n",
    "print(f\"Test Accuracy: {accuracy}\")\n",
    "\n",
    "y_pred = (model.predict(X_test) > 0.5).astype(\"int32\")\n",
    "y_true = y_test\n",
    "\n",
    "y_scores = model.predict(X_test).flatten()\n",
    "\n",
    "solution = pd.DataFrame({'row_id': range(len(y_true)), 'target': y_true})\n",
    "submission = pd.DataFrame({'row_id': range(len(y_scores)), 'prediction': y_scores})\n",
    "\n",
    "pAUC = score(solution, submission, 'row_id', min_tpr=0.80)\n",
    "\n",
    "pAUCscores.append(pAUC)\n",
    "confMatrix.append(confusion_matrix(y_true, y_pred))\n",
    "cfReport.append(classification_report(y_true, y_pred))"
   ]
  },
  {
   "cell_type": "code",
   "execution_count": 26,
   "id": "efbd4982",
   "metadata": {
    "execution": {
     "iopub.execute_input": "2024-07-27T21:34:26.226908Z",
     "iopub.status.busy": "2024-07-27T21:34:26.226108Z",
     "iopub.status.idle": "2024-07-27T21:34:26.682157Z",
     "shell.execute_reply": "2024-07-27T21:34:26.681233Z"
    },
    "papermill": {
     "duration": 0.477244,
     "end_time": "2024-07-27T21:34:26.684211",
     "exception": false,
     "start_time": "2024-07-27T21:34:26.206967",
     "status": "completed"
    },
    "tags": []
   },
   "outputs": [
    {
     "data": {
      "image/png": "[encoded data removed]",
      "text/plain": [
       "<Figure size 640x480 with 1 Axes>"
      ]
     },
     "metadata": {},
     "output_type": "display_data"
    },
    {
     "data": {
      "image/png": "[encoded data removed]",
      "text/plain": [
       "<Figure size 640x480 with 1 Axes>"
      ]
     },
     "metadata": {},
     "output_type": "display_data"
    }
   ],
   "source": [
    "import matplotlib.pyplot as plt\n",
    "\n",
    "plt.plot(history.history['accuracy'], label='accuracy')\n",
    "plt.plot(history.history['val_accuracy'], label='val_accuracy')\n",
    "plt.xlabel('Epoch')\n",
    "plt.ylabel('Accuracy')\n",
    "plt.legend(loc='lower right')\n",
    "plt.show()\n",
    "\n",
    "plt.plot(history.history['loss'], label='loss')\n",
    "plt.plot(history.history['val_loss'], label='val_loss')\n",
    "plt.xlabel('Epoch')\n",
    "plt.ylabel('Loss')\n",
    "plt.legend(loc='upper right')\n",
    "plt.show()"
   ]
  },
  {
   "cell_type": "markdown",
   "id": "409485c7",
   "metadata": {
    "papermill": {
     "duration": 0.018663,
     "end_time": "2024-07-27T21:34:26.723668",
     "exception": false,
     "start_time": "2024-07-27T21:34:26.705005",
     "status": "completed"
    },
    "tags": []
   },
   "source": [
    "## Overall Metrics"
   ]
  },
  {
   "cell_type": "code",
   "execution_count": 27,
   "id": "4ab8f196",
   "metadata": {
    "execution": {
     "iopub.execute_input": "2024-07-27T21:34:26.762415Z",
     "iopub.status.busy": "2024-07-27T21:34:26.762125Z",
     "iopub.status.idle": "2024-07-27T21:34:26.769675Z",
     "shell.execute_reply": "2024-07-27T21:34:26.768804Z"
    },
    "papermill": {
     "duration": 0.0295,
     "end_time": "2024-07-27T21:34:26.772150",
     "exception": false,
     "start_time": "2024-07-27T21:34:26.742650",
     "status": "completed"
    },
    "tags": []
   },
   "outputs": [
    {
     "name": "stdout",
     "output_type": "stream",
     "text": [
      "----------------------------------\n",
      "Metrics for LGBM\n",
      "pAUC Score:\n",
      " 0.17880742913000974\n",
      "Confusion Matrix:\n",
      " [[147  18]\n",
      " [  8 147]]\n",
      "Other Metrics Report:\n",
      "               precision    recall  f1-score   support\n",
      "\n",
      "           0       0.95      0.89      0.92       165\n",
      "           1       0.89      0.95      0.92       155\n",
      "\n",
      "    accuracy                           0.92       320\n",
      "   macro avg       0.92      0.92      0.92       320\n",
      "weighted avg       0.92      0.92      0.92       320\n",
      "\n",
      "----------------------------------\n",
      "Metrics for XGB\n",
      "pAUC Score:\n",
      " 0.17912023460410553\n",
      "Confusion Matrix:\n",
      " [[147  18]\n",
      " [  6 149]]\n",
      "Other Metrics Report:\n",
      "               precision    recall  f1-score   support\n",
      "\n",
      "           0       0.96      0.89      0.92       165\n",
      "           1       0.89      0.96      0.93       155\n",
      "\n",
      "    accuracy                           0.93       320\n",
      "   macro avg       0.93      0.93      0.92       320\n",
      "weighted avg       0.93      0.93      0.92       320\n",
      "\n",
      "----------------------------------\n",
      "Metrics for CAT\n",
      "pAUC Score:\n",
      " 0.17986314760508304\n",
      "Confusion Matrix:\n",
      " [[148  17]\n",
      " [ 10 145]]\n",
      "Other Metrics Report:\n",
      "               precision    recall  f1-score   support\n",
      "\n",
      "           0       0.94      0.90      0.92       165\n",
      "           1       0.90      0.94      0.91       155\n",
      "\n",
      "    accuracy                           0.92       320\n",
      "   macro avg       0.92      0.92      0.92       320\n",
      "weighted avg       0.92      0.92      0.92       320\n",
      "\n",
      "----------------------------------\n",
      "Metrics for ADB\n",
      "pAUC Score:\n",
      " 0.163010752688172\n",
      "Confusion Matrix:\n",
      " [[142  23]\n",
      " [ 19 136]]\n",
      "Other Metrics Report:\n",
      "               precision    recall  f1-score   support\n",
      "\n",
      "           0       0.88      0.86      0.87       165\n",
      "           1       0.86      0.88      0.87       155\n",
      "\n",
      "    accuracy                           0.87       320\n",
      "   macro avg       0.87      0.87      0.87       320\n",
      "weighted avg       0.87      0.87      0.87       320\n",
      "\n",
      "----------------------------------\n",
      "Metrics for GBM\n",
      "pAUC Score:\n",
      " 0.1740762463343108\n",
      "Confusion Matrix:\n",
      " [[145  20]\n",
      " [ 11 144]]\n",
      "Other Metrics Report:\n",
      "               precision    recall  f1-score   support\n",
      "\n",
      "           0       0.93      0.88      0.90       165\n",
      "           1       0.88      0.93      0.90       155\n",
      "\n",
      "    accuracy                           0.90       320\n",
      "   macro avg       0.90      0.90      0.90       320\n",
      "weighted avg       0.90      0.90      0.90       320\n",
      "\n",
      "----------------------------------\n",
      "Metrics for SVM\n",
      "pAUC Score:\n",
      " 0.16520039100684256\n",
      "Confusion Matrix:\n",
      " [[138  27]\n",
      " [  8 147]]\n",
      "Other Metrics Report:\n",
      "               precision    recall  f1-score   support\n",
      "\n",
      "           0       0.95      0.84      0.89       165\n",
      "           1       0.84      0.95      0.89       155\n",
      "\n",
      "    accuracy                           0.89       320\n",
      "   macro avg       0.90      0.89      0.89       320\n",
      "weighted avg       0.90      0.89      0.89       320\n",
      "\n",
      "----------------------------------\n",
      "Metrics for RF\n",
      "pAUC Score:\n",
      " 0.1791397849462365\n",
      "Confusion Matrix:\n",
      " [[147  18]\n",
      " [  7 148]]\n",
      "Other Metrics Report:\n",
      "               precision    recall  f1-score   support\n",
      "\n",
      "           0       0.95      0.89      0.92       165\n",
      "           1       0.89      0.95      0.92       155\n",
      "\n",
      "    accuracy                           0.92       320\n",
      "   macro avg       0.92      0.92      0.92       320\n",
      "weighted avg       0.92      0.92      0.92       320\n",
      "\n",
      "----------------------------------\n",
      "Metrics for BRF\n",
      "pAUC Score:\n",
      " 0.1786168132942326\n",
      "Confusion Matrix:\n",
      " [[147  18]\n",
      " [  8 147]]\n",
      "Other Metrics Report:\n",
      "               precision    recall  f1-score   support\n",
      "\n",
      "           0       0.95      0.89      0.92       165\n",
      "           1       0.89      0.95      0.92       155\n",
      "\n",
      "    accuracy                           0.92       320\n",
      "   macro avg       0.92      0.92      0.92       320\n",
      "weighted avg       0.92      0.92      0.92       320\n",
      "\n",
      "----------------------------------\n",
      "Metrics for DNN\n",
      "pAUC Score:\n",
      " 0.13548387096774192\n",
      "Confusion Matrix:\n",
      " [[134  31]\n",
      " [ 27 128]]\n",
      "Other Metrics Report:\n",
      "               precision    recall  f1-score   support\n",
      "\n",
      "           0       0.83      0.81      0.82       165\n",
      "           1       0.81      0.83      0.82       155\n",
      "\n",
      "    accuracy                           0.82       320\n",
      "   macro avg       0.82      0.82      0.82       320\n",
      "weighted avg       0.82      0.82      0.82       320\n",
      "\n"
     ]
    }
   ],
   "source": [
    "models = ['LGBM', 'XGB', 'CAT', 'ADB', 'GBM', 'SVM', 'RF', 'BRF', 'DNN']\n",
    "\n",
    "for ps, conf, cf, md in zip(pAUCscores, confMatrix, cfReport, models):\n",
    "    print('----------------------------------')\n",
    "    print('Metrics for', md)\n",
    "    print('pAUC Score:\\n', ps)\n",
    "    print('Confusion Matrix:\\n', conf)\n",
    "    print('Other Metrics Report:\\n', cf)"
   ]
  },
  {
   "cell_type": "markdown",
   "id": "4b7768ee",
   "metadata": {
    "papermill": {
     "duration": 0.018513,
     "end_time": "2024-07-27T21:34:26.809285",
     "exception": false,
     "start_time": "2024-07-27T21:34:26.790772",
     "status": "completed"
    },
    "tags": []
   },
   "source": [
    "## Evaluating Score pAUC (without submission)"
   ]
  },
  {
   "cell_type": "code",
   "execution_count": 28,
   "id": "f6f90b11",
   "metadata": {
    "execution": {
     "iopub.execute_input": "2024-07-27T21:34:26.847889Z",
     "iopub.status.busy": "2024-07-27T21:34:26.847379Z",
     "iopub.status.idle": "2024-07-27T21:34:27.347898Z",
     "shell.execute_reply": "2024-07-27T21:34:27.346896Z"
    },
    "papermill": {
     "duration": 0.521883,
     "end_time": "2024-07-27T21:34:27.349877",
     "exception": false,
     "start_time": "2024-07-27T21:34:26.827994",
     "status": "completed"
    },
    "tags": []
   },
   "outputs": [
    {
     "name": "stdout",
     "output_type": "stream",
     "text": [
      "lgb_model\n",
      "0.16439999999999994\n",
      "xgb_model\n",
      "0.15359999999999996\n",
      "catboost_model\n",
      "0.16519999999999996\n",
      "adaboost_model\n",
      "0.13799999999999998\n",
      "gbm_model\n",
      "0.16359999999999994\n",
      "svm_model\n",
      "0.14559999999999995\n",
      "random_forest_model\n",
      "0.16179999999999994\n",
      "brf_model\n",
      "0.15959999999999996\n",
      "dnn\n",
      "\u001b[1m4/4\u001b[0m \u001b[32m━━━━━━━━━━━━━━━━━━━━\u001b[0m\u001b[37m\u001b[0m \u001b[1m0s\u001b[0m 84ms/step\n",
      "0.11799999999999997\n",
      "Best pAUC Model: catboost_model\n",
      "Average pAUC:0.15219999999999995\n"
     ]
    }
   ],
   "source": [
    "def predict(test_data: pd.DataFrame, pipeline: Pipeline, model_) -> pd.DataFrame:\n",
    "    isic_id = test_data['isic_id']\n",
    "    \n",
    "    test_data['tbp_lv_location_simple'] = test_data['tbp_lv_location_simple'].replace('Unknown', np.nan)\n",
    "\n",
    "    test_data_processed = pipeline.transform(test_data)\n",
    "    \n",
    "    feature_names = pipeline.named_steps['feature_selector'].get_feature_names_out(pipeline.named_steps['preprocessor'].get_feature_names_out())\n",
    "    \n",
    "    test_data_processed_df = pd.DataFrame(test_data_processed, columns=feature_names)\n",
    "    try:\n",
    "        test_predictions = model_.predict_proba(test_data_processed_df)[:, 1]\n",
    "    except:\n",
    "        test_predictions = model_.predict(test_data_processed_df).flatten()\n",
    "    \n",
    "    predictions_df = pd.DataFrame({'isic_id': isic_id, 'target': test_predictions})\n",
    "    \n",
    "    return predictions_df\n",
    "\n",
    "X = final_test_df.drop(columns = ['target'])\n",
    "y = final_test_df['target']\n",
    "\n",
    "mdls = [lgb_model, xgb_model, catboost_model, adaboost_model, gbm_model, svm_model, random_forest_model, brf_model, model]\n",
    "mdls_name = ['lgb_model','xgb_model', 'catboost_model', 'adaboost_model', 'gbm_model', 'svm_model', 'random_forest_model', 'brf_model', 'dnn']\n",
    "\n",
    "best_model = None\n",
    "best_model_name = None\n",
    "max_puac = 0\n",
    "sum_puac = 0\n",
    "for m, n in zip(mdls, mdls_name):\n",
    "    print(n)\n",
    "    predicted_df = predict(X, pipeline, m)\n",
    "    \n",
    "    predicted_df['actual_target'] = y\n",
    "    solution = pd.DataFrame({'row_id': range(len(predicted_df['actual_target'])), 'target': predicted_df['actual_target']})\n",
    "    submission = pd.DataFrame({'row_id': range(len(predicted_df['target'])), 'prediction': predicted_df['target']})\n",
    "    pAUC = score(solution, submission, 'row_id', min_tpr=0.80)\n",
    "    print(pAUC)\n",
    "    \n",
    "    \n",
    "    \n",
    "    sum_puac += pAUC\n",
    "    if(pAUC > max_puac):\n",
    "        max_puac = pAUC\n",
    "        best_model = m\n",
    "        best_model_name = n\n",
    "\n",
    "\n",
    "print(f'Best pAUC Model: {best_model_name}')\n",
    "print(f'Average pAUC:{sum_puac/len(mdls)}')"
   ]
  },
  {
   "cell_type": "code",
   "execution_count": 29,
   "id": "b6a47e78",
   "metadata": {
    "execution": {
     "iopub.execute_input": "2024-07-27T21:34:27.393628Z",
     "iopub.status.busy": "2024-07-27T21:34:27.392917Z",
     "iopub.status.idle": "2024-07-27T21:34:27.426244Z",
     "shell.execute_reply": "2024-07-27T21:34:27.425296Z"
    },
    "papermill": {
     "duration": 0.057192,
     "end_time": "2024-07-27T21:34:27.428283",
     "exception": false,
     "start_time": "2024-07-27T21:34:27.371091",
     "status": "completed"
    },
    "tags": []
   },
   "outputs": [
    {
     "data": {
      "text/html": [
       "<div>\n",
       "<style scoped>\n",
       "    .dataframe tbody tr th:only-of-type {\n",
       "        vertical-align: middle;\n",
       "    }\n",
       "\n",
       "    .dataframe tbody tr th {\n",
       "        vertical-align: top;\n",
       "    }\n",
       "\n",
       "    .dataframe thead th {\n",
       "        text-align: right;\n",
       "    }\n",
       "</style>\n",
       "<table border=\"1\" class=\"dataframe\">\n",
       "  <thead>\n",
       "    <tr style=\"text-align: right;\">\n",
       "      <th></th>\n",
       "      <th>isic_id</th>\n",
       "      <th>target</th>\n",
       "    </tr>\n",
       "  </thead>\n",
       "  <tbody>\n",
       "    <tr>\n",
       "      <th>0</th>\n",
       "      <td>ISIC_0015657</td>\n",
       "      <td>0.026350</td>\n",
       "    </tr>\n",
       "    <tr>\n",
       "      <th>1</th>\n",
       "      <td>ISIC_0015729</td>\n",
       "      <td>0.007922</td>\n",
       "    </tr>\n",
       "    <tr>\n",
       "      <th>2</th>\n",
       "      <td>ISIC_0015740</td>\n",
       "      <td>0.109024</td>\n",
       "    </tr>\n",
       "  </tbody>\n",
       "</table>\n",
       "</div>"
      ],
      "text/plain": [
       "        isic_id    target\n",
       "0  ISIC_0015657  0.026350\n",
       "1  ISIC_0015729  0.007922\n",
       "2  ISIC_0015740  0.109024"
      ]
     },
     "execution_count": 29,
     "metadata": {},
     "output_type": "execute_result"
    }
   ],
   "source": [
    "test_data = pd.read_csv('/kaggle/input/isic-2024-challenge/test-metadata.csv', low_memory=False)\n",
    "predicted_df = predict(test_data, pipeline, best_model)\n",
    "predicted_df.to_csv('submission.csv', index=False)\n",
    "predicted_df"
   ]
  },
  {
   "cell_type": "code",
   "execution_count": 30,
   "id": "2096cd73",
   "metadata": {
    "execution": {
     "iopub.execute_input": "2024-07-27T21:34:27.470337Z",
     "iopub.status.busy": "2024-07-27T21:34:27.470059Z",
     "iopub.status.idle": "2024-07-27T21:34:27.475585Z",
     "shell.execute_reply": "2024-07-27T21:34:27.474610Z"
    },
    "papermill": {
     "duration": 0.028901,
     "end_time": "2024-07-27T21:34:27.477590",
     "exception": false,
     "start_time": "2024-07-27T21:34:27.448689",
     "status": "completed"
    },
    "tags": []
   },
   "outputs": [
    {
     "data": {
      "text/plain": [
       "<catboost.core.CatBoostClassifier at 0x7edae880fbe0>"
      ]
     },
     "execution_count": 30,
     "metadata": {},
     "output_type": "execute_result"
    }
   ],
   "source": [
    "best_model"
   ]
  },
  {
   "cell_type": "code",
   "execution_count": null,
   "id": "60fd70d7",
   "metadata": {
    "papermill": {
     "duration": 0.020747,
     "end_time": "2024-07-27T21:34:27.519335",
     "exception": false,
     "start_time": "2024-07-27T21:34:27.498588",
     "status": "completed"
    },
    "tags": []
   },
   "outputs": [],
   "source": []
  },
  {
   "cell_type": "code",
   "execution_count": null,
   "id": "96224d73",
   "metadata": {
    "papermill": {
     "duration": 0.0204,
     "end_time": "2024-07-27T21:34:27.560523",
     "exception": false,
     "start_time": "2024-07-27T21:34:27.540123",
     "status": "completed"
    },
    "tags": []
   },
   "outputs": [],
   "source": []
  }
 ],
 "metadata": {
  "kaggle": {
   "accelerator": "nvidiaTeslaT4",
   "dataSources": [
    {
     "databundleVersionId": 9094797,
     "sourceId": 63056,
     "sourceType": "competition"
    }
   ],
   "dockerImageVersionId": 30746,
   "isGpuEnabled": true,
   "isInternetEnabled": false,
   "language": "python",
   "sourceType": "notebook"
  },
  "kernelspec": {
   "display_name": "Python 3",
   "language": "python",
   "name": "python3"
  },
  "language_info": {
   "codemirror_mode": {
    "name": "ipython",
    "version": 3
   },
   "file_extension": ".py",
   "mimetype": "text/x-python",
   "name": "python",
   "nbconvert_exporter": "python",
   "pygments_lexer": "ipython3",
   "version": "3.10.13"
  },
  "papermill": {
   "default_parameters": {},
   "duration": 58.112965,
   "end_time": "2024-07-27T21:34:30.450572",
   "environment_variables": {},
   "exception": null,
   "input_path": "__notebook__.ipynb",
   "output_path": "__notebook__.ipynb",
   "parameters": {},
   "start_time": "2024-07-27T21:33:32.337607",
   "version": "2.5.0"
  }
 },
 "nbformat": 4,
 "nbformat_minor": 5
}
